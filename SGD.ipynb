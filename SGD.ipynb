{
 "cells": [
  {
   "cell_type": "code",
   "execution_count": 1,
   "metadata": {},
   "outputs": [],
   "source": [
    "import numpy as np\n",
    "import pandas as pd\n",
    "from mlxtend.preprocessing import shuffle_arrays_unison\n",
    "from sklearn import linear_model\n",
    "import unittest"
   ]
  },
  {
   "cell_type": "code",
   "execution_count": 2,
   "metadata": {},
   "outputs": [],
   "source": [
    "def MSE(y, y_hat):\n",
    "    sse = 0\n",
    "    for i in range(y.size):\n",
    "        sse += (y[i] - y_hat[i])**2\n",
    "    return sse/len(y) "
   ]
  },
  {
   "cell_type": "code",
   "execution_count": 3,
   "metadata": {},
   "outputs": [],
   "source": [
    "def SGD(X, y, _lambda, eta, epochs):\n",
    "    n = len(X)\n",
    "    k = len(X[0])\n",
    "    beta = np.zeros(k)\n",
    "    flag = True\n",
    "    _iter = 0\n",
    "    while _iter<epochs:\n",
    "        X, y = shuffle_arrays_unison(arrays=[X, y], random_seed=3)\n",
    "        '''We shuffle the data points and for every training point we compute the gradient and update the weights'''\n",
    "        for i in range(n): \n",
    "            for j in range(k):\n",
    "                beta_gradient = _lambda*beta[j] -  (y[i] - np.dot(X[i],beta))*X[i,j]\n",
    "                beta[j] = beta[j] - eta*beta_gradient\n",
    "        _iter += 1\n",
    "    return beta,MSE(y, np.dot(X,beta))"
   ]
  },
  {
   "cell_type": "code",
   "execution_count": 4,
   "metadata": {},
   "outputs": [
    {
     "name": "stderr",
     "output_type": "stream",
     "text": [
      ".\n",
      "----------------------------------------------------------------------\n",
      "Ran 1 test in 26.494s\n",
      "\n",
      "OK\n"
     ]
    }
   ],
   "source": [
    "class SGDTestCase(unittest.TestCase):   \n",
    "    def test_SGD(self):\n",
    "        data = np.genfromtxt('sample_data.csv',delimiter=\",\")\n",
    "        X = np.hstack((np.ones((len(data),1)),data[:,:-1]))\n",
    "        y = data[:,-1]\n",
    "        _lambda = 0.001\n",
    "        _eta = 0.01\n",
    "        epochs = 10000\n",
    "        \n",
    "        beta, error = SGD(X, y, _lambda, _eta, epochs)\n",
    "        coefficients = beta[1:]\n",
    "        intercept = beta[0]\n",
    "        #Asserting if error is low\n",
    "        self.assertTrue(error<=0.1, msg=None)\n",
    "        \n",
    "        '''Let's test the value with respect to the coefficients and intercept \n",
    "        after fitting the data over SGDRegressor, Linear Regression and Ridge Rigression\n",
    "        '''\n",
    "        \n",
    "        #SGD Regression\n",
    "        sgd = linear_model.SGDRegressor(penalty = 'l2', alpha = _lambda, max_iter=epochs, shuffle=True, learning_rate='constant', eta0=_eta)\n",
    "        sgd.fit(X[:,1:],y)\n",
    "        #Linear Regression\n",
    "        lr = linear_model.LinearRegression().fit(X[:,1:], y)\n",
    "        #Ridge Regression\n",
    "        rr = linear_model.Ridge(alpha=_lambda).fit(X[:,1:], y)\n",
    "        \n",
    "        for i in range(len(coefficients)):\n",
    "            self.assertTrue(abs(sgd.coef_[i]-coefficients[i])<=0.1, msg=None)\n",
    "            self.assertTrue(abs(lr.coef_[i]-coefficients[i])<=0.1, msg=None)\n",
    "            self.assertTrue(abs(rr.coef_[i]-coefficients[i])<=0.1, msg=None)\n",
    "        self.assertTrue(abs(sgd.intercept_ - intercept)<=0.1, msg=None)\n",
    "        self.assertTrue(abs(lr.intercept_ - intercept)<=0.1, msg=None)\n",
    "        self.assertTrue(abs(rr.intercept_ - intercept)<=0.1, msg=None)\n",
    "        \n",
    "if __name__ == '__main__':\n",
    "    unittest.main(argv=['first-arg-is-ignored'], exit=False)"
   ]
  },
  {
   "cell_type": "code",
   "execution_count": null,
   "metadata": {},
   "outputs": [],
   "source": []
  }
 ],
 "metadata": {
  "kernelspec": {
   "display_name": "Python 3",
   "language": "python",
   "name": "python3"
  },
  "language_info": {
   "codemirror_mode": {
    "name": "ipython",
    "version": 3
   },
   "file_extension": ".py",
   "mimetype": "text/x-python",
   "name": "python",
   "nbconvert_exporter": "python",
   "pygments_lexer": "ipython3",
   "version": "3.7.0"
  }
 },
 "nbformat": 4,
 "nbformat_minor": 2
}
